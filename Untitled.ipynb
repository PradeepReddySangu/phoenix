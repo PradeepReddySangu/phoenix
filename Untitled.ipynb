{
 "cells": [
  {
   "cell_type": "code",
   "execution_count": null,
   "metadata": {},
   "outputs": [],
   "source": []
  },
  {
   "cell_type": "code",
   "execution_count": 4,
   "metadata": {},
   "outputs": [
    {
     "name": "stdout",
     "output_type": "stream",
     "text": [
      "(2, 2, 4, 3, 5, 8, 6, 4, 9, 1)\n",
      "[4, 4, 16, 9, 25, 64, 36, 16, 81, 1]\n",
      "the max value index is 8\n",
      "the min value count is 1\n"
     ]
    }
   ],
   "source": [
    "t=(2,2,4,3,5,8,6,4,9,1)\n",
    "y=()\n",
    "count=0\n",
    "kkk=0\n",
    "d=list(map(lambda x:x*x,t))\n",
    "print(t)\n",
    "print(d)\n",
    "y=tuple(d)\n",
    "l=max(y)\n",
    "a=min(y)\n",
    "for i in y:\n",
    "    if(i==l):\n",
    "        print(\"the max value index is\",count)\n",
    "    else:\n",
    "        count+=1\n",
    "for i in y:\n",
    "    if(i==a):\n",
    "        kkk+=1\n",
    "        print(\"the min value count is\",kkk)\n",
    "    \n"
   ]
  },
  {
   "cell_type": "code",
   "execution_count": 33,
   "metadata": {},
   "outputs": [
    {
     "name": "stdout",
     "output_type": "stream",
     "text": [
      "['sumanth', 'pradeep', 'oopu mohan', 'prabanjanam vamsi']\n"
     ]
    }
   ],
   "source": [
    "l=[]\n",
    "l.insert(0,'sumanth')\n",
    "l.insert(1,'pradeep')\n",
    "l.insert(2,'oopu mohan')\n",
    "l.insert(3,'prabanjanam vamsi')\n",
    "print(l)"
   ]
  },
  {
   "cell_type": "code",
   "execution_count": 30,
   "metadata": {},
   "outputs": [
    {
     "name": "stdout",
     "output_type": "stream",
     "text": [
      "['B', 'D', 'F', 'H', 'J', 'L', 'N', 'P', 'R', 'T', 'V', 'X', 'Z']\n"
     ]
    }
   ],
   "source": [
    "l=[]\n",
    "\n",
    "for i in range(65,92):\n",
    "    if(i%2==0):\n",
    "        l.append(chr(i))\n",
    "print(l)"
   ]
  },
  {
   "cell_type": "code",
   "execution_count": 32,
   "metadata": {},
   "outputs": [
    {
     "name": "stdout",
     "output_type": "stream",
     "text": [
      "enter1000\n",
      "[35, 70, 105, 140, 175, 210, 245, 280, 315, 350, 385, 420, 455, 490, 525, 560, 595, 630, 665, 700, 735, 770, 805, 840, 875, 910, 945, 980]\n"
     ]
    }
   ],
   "source": [
    "n=int(input(\"enter\"))\n",
    "l=[]\n",
    "\n",
    "for i in range(1,n+1):\n",
    "    if(i%5==0 and i%7==0):\n",
    "        l.append(i)\n",
    "print(l)\n",
    "l=[]\n",
    "\n"
   ]
  },
  {
   "cell_type": "code",
   "execution_count": 12,
   "metadata": {},
   "outputs": [
    {
     "name": "stdout",
     "output_type": "stream",
     "text": [
      "['__add__', '__class__', '__contains__', '__delattr__', '__delitem__', '__dir__', '__doc__', '__eq__', '__format__', '__ge__', '__getattribute__', '__getitem__', '__gt__', '__hash__', '__iadd__', '__imul__', '__init__', '__init_subclass__', '__iter__', '__le__', '__len__', '__lt__', '__mul__', '__ne__', '__new__', '__reduce__', '__reduce_ex__', '__repr__', '__reversed__', '__rmul__', '__setattr__', '__setitem__', '__sizeof__', '__str__', '__subclasshook__', 'append', 'clear', 'copy', 'count', 'extend', 'index', 'insert', 'pop', 'remove', 'reverse', 'sort']\n"
     ]
    }
   ],
   "source": [
    "print(dir(list))"
   ]
  },
  {
   "cell_type": "code",
   "execution_count": 25,
   "metadata": {},
   "outputs": [
    {
     "name": "stdout",
     "output_type": "stream",
     "text": [
      "enter50\n",
      "[0, 2, 4, 6, 8, 10, 12, 14, 16, 18, 20, 22, 24, 26, 28, 30, 32, 34, 36, 38, 40, 42, 44, 46, 48, 50]\n"
     ]
    }
   ],
   "source": [
    "n=int(input(\"enter\"))\n",
    "l=[]\n",
    "\n",
    "for i in range(n+1):\n",
    "    if(i%2==0):\n",
    "        l.append(i)\n",
    "print(l)"
   ]
  },
  {
   "cell_type": "code",
   "execution_count": 22,
   "metadata": {},
   "outputs": [
    {
     "name": "stdout",
     "output_type": "stream",
     "text": [
      "[123]\n",
      "[123, 25]\n",
      "[123, 25, 12, 36]\n"
     ]
    }
   ],
   "source": [
    "l=[]\n",
    "l.insert(0,123)\n",
    "print(l)\n",
    "l.insert(1,25)\n",
    "print(l)\n",
    "l.extend([12,36])\n",
    "print(l)\n"
   ]
  },
  {
   "cell_type": "code",
   "execution_count": 17,
   "metadata": {},
   "outputs": [
    {
     "name": "stdout",
     "output_type": "stream",
     "text": [
      "[0, 1, 2, 3, 4, 5, 6, 7, 8, 9]\n",
      "[0, 1, 2, 3, 4, 5, 6, 7, 8, 9, [11, 12, 13]]\n",
      "[11, 12, 13]\n"
     ]
    }
   ],
   "source": [
    "l=[]\n",
    "for i in range(10):\n",
    "    l.append(i)\n",
    "print(l)\n",
    "l.append([11,12,13])\n",
    "print(l)\n",
    "\n",
    "print(l[10])"
   ]
  },
  {
   "cell_type": "code",
   "execution_count": 8,
   "metadata": {},
   "outputs": [
    {
     "name": "stdout",
     "output_type": "stream",
     "text": [
      "enter name with surname firstsangu pradeep kumar\n",
      "s . pradeepkumar\n"
     ]
    }
   ],
   "source": [
    "n=input(\"enter name with surname first\")\n",
    "p=''\n",
    "n1=n.split()\n",
    "s=n1[0]\n",
    "n2=n1[1:]\n",
    "for i in n2:\n",
    "    p=p+i\n",
    "print(s[0],'.',p)"
   ]
  },
  {
   "cell_type": "code",
   "execution_count": 10,
   "metadata": {},
   "outputs": [
    {
     "name": "stdout",
     "output_type": "stream",
     "text": [
      "['fdsfds', 'fgefgew', 'gdfge']\n",
      "f\n"
     ]
    }
   ],
   "source": [
    "d='fdsfds fgefgew gdfge'\n",
    "f=d.split()\n",
    "print(f)\n",
    "print(f[0][0])"
   ]
  }
 ],
 "metadata": {
  "kernelspec": {
   "display_name": "Python 3",
   "language": "python",
   "name": "python3"
  },
  "language_info": {
   "codemirror_mode": {
    "name": "ipython",
    "version": 3
   },
   "file_extension": ".py",
   "mimetype": "text/x-python",
   "name": "python",
   "nbconvert_exporter": "python",
   "pygments_lexer": "ipython3",
   "version": "3.8.5"
  }
 },
 "nbformat": 4,
 "nbformat_minor": 4
}
