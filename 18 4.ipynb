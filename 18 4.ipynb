{
 "cells": [
  {
   "cell_type": "code",
   "execution_count": 11,
   "metadata": {},
   "outputs": [
    {
     "name": "stdout",
     "output_type": "stream",
     "text": [
      "enter student count10\n",
      "enter lower range9\n",
      "enter upper range45\n"
     ]
    }
   ],
   "source": [
    "from random  import randint\n",
    "def marksgen(n,lb,ub):\n",
    "    with open(\"folder/marks.txt\",'w') as f:\n",
    "        for i in range(0,n):\n",
    "            r=randint(lb,ub)\n",
    "            f.write(str(r)+\"\\n\")\n",
    "            \n",
    "    return\n",
    "\n",
    "n = int(input(\"enter student count\"))\n",
    "lb=int(input(\"enter lower range\"))\n",
    "ub=int(input(\"enter upper range\"))\n",
    "marksgen(n,lb,ub)"
   ]
  },
  {
   "cell_type": "code",
   "execution_count": 8,
   "metadata": {},
   "outputs": [
    {
     "name": "stdout",
     "output_type": "stream",
     "text": [
      "pradeep kumar reddy\n",
      "{'p': 2, 'r': 3, 'a': 2, 'd': 3, 'e': 3, ' ': 2, 'k': 1, 'u': 1, 'm': 1, 'y': 1}\n"
     ]
    }
   ],
   "source": [
    "i=0\n",
    "j=0\n",
    "d={}\n",
    "with open(\"folder/count.txt\",\"r\") as info:\n",
    "    s=info.read()\n",
    "    \n",
    "print(s)\n",
    "for i in s:\n",
    "    for j in s:\n",
    "        if(i==j):\n",
    "            count+=1\n",
    "            \n",
    "    d[i]=count\n",
    "    count=0\n",
    "print(d)\n",
    "            \n",
    "    \n",
    "            "
   ]
  },
  {
   "cell_type": "code",
   "execution_count": 3,
   "metadata": {},
   "outputs": [
    {
     "name": "stdout",
     "output_type": "stream",
     "text": [
      "['python', 'life', 'go', 'to']\n"
     ]
    }
   ],
   "source": [
    "from packages.module import sd\n",
    "with open(\"folder/duplicate.txt\",\"r\") as info:\n",
    "    s=info.read()\n",
    "l=list(s.split())\n",
    "sd(l)\n"
   ]
  },
  {
   "cell_type": "code",
   "execution_count": 14,
   "metadata": {},
   "outputs": [
    {
     "name": "stdout",
     "output_type": "stream",
     "text": [
      "pradeep kumar\n",
      "reddy\n"
     ]
    }
   ],
   "source": [
    "with open(\"folder/demo.txt\",\"r\") as info:\n",
    "    s=info.read()\n",
    "    \n",
    "print(s)"
   ]
  },
  {
   "cell_type": "code",
   "execution_count": 13,
   "metadata": {},
   "outputs": [
    {
     "name": "stdout",
     "output_type": "stream",
     "text": [
      "the character count is 12\n",
      "the word count is 2\n",
      "<class '_io.TextIOWrapper'>\n"
     ]
    }
   ],
   "source": [
    "with open(\"folder/demo.txt\",\"r\") as info:\n",
    "    s=info.read()\n",
    "\n",
    "count=0\n",
    "for i in s:\n",
    "    if(i.isalpha()):\n",
    "        count+=1\n",
    "\n",
    "print(\"the character count is\",count)\n",
    "\n",
    "l=list(s.split())\n",
    "print(\"the word count is\",len(l))\n",
    "\n",
    "print(type(info))\n"
   ]
  },
  {
   "cell_type": "code",
   "execution_count": 6,
   "metadata": {},
   "outputs": [
    {
     "name": "stdout",
     "output_type": "stream",
     "text": [
      "enternothing but something\n",
      "nothing but something\n"
     ]
    }
   ],
   "source": [
    "n=input(\"enter\")\n",
    "with open(\"folder/dmm.txt\",\"w\") as info:\n",
    "    info.write(n)\n",
    "    \n",
    "\n",
    "with open(\"folder/dmm.txt\",\"r\") as info:\n",
    "    s=info.read()\n",
    "    print(s)\n",
    "\n",
    "\n"
   ]
  },
  {
   "cell_type": "code",
   "execution_count": null,
   "metadata": {},
   "outputs": [],
   "source": [
    "n=input(\"enter\")\n",
    "f=open('Folder/demo.txt','w')\n",
    "f.write(n)\n",
    "f.close()\n",
    "f=open('Folder/demo.txt')\n",
    "s=f.read()\n",
    "print(s)\n",
    "f.close()"
   ]
  },
  {
   "cell_type": "raw",
   "metadata": {},
   "source": [
    "-file handling\n",
    "  -"
   ]
  },
  {
   "cell_type": "code",
   "execution_count": null,
   "metadata": {},
   "outputs": [],
   "source": [
    "import re as r\n",
    "n=input(\"enter id number\")\n",
    "p=\"^[1][9][F][E][1][A][0][5][A-I][0-9]{1}\"\n",
    "if(r.match(p,n)):\n",
    "    print(\"valid\")\n",
    "    \n",
    "else:\n",
    "    print(\"not valid\")"
   ]
  },
  {
   "cell_type": "code",
   "execution_count": null,
   "metadata": {},
   "outputs": [],
   "source": [
    "import re \n",
    "n=input(\"enter email:\")\n",
    "p=\"^[0-9a-z][0-9a-z_.]{6,30}[@][a-z]{5,10}[.][a-z]{2,5}$\"\n",
    "if(re.match(p,n)):\n",
    "    print(\"valid\")\n",
    "    \n",
    "else:\n",
    "    print(\"not valid\")\n"
   ]
  },
  {
   "cell_type": "code",
   "execution_count": null,
   "metadata": {},
   "outputs": [],
   "source": [
    "import re as r\n",
    "n=int(input(\"enter\"))\n",
    "b='^[+][9][1][6-9][0-9]{9}$'\n",
    "if(r.match(b,n)):\n",
    "    print(\"valid\")\n",
    "    \n",
    "else:\n",
    "    print(\"not valid\") "
   ]
  },
  {
   "cell_type": "code",
   "execution_count": null,
   "metadata": {},
   "outputs": [],
   "source": [
    "import re as r\n",
    "k=\"bhjbhjsbjs 2 and  3\"\n",
    "print(r.findall(\"[0-9]+\",k))"
   ]
  },
  {
   "cell_type": "raw",
   "metadata": {},
   "source": [
    "  - ^ --matches starting char\n",
    "  - $ --matches end char\n",
    "  -[0-9]\n",
    "  -[a-z]\n",
    "  -[A-Z]\n",
    "  -[a-zA-Z]\n",
    "  -[0-9]{4}\n",
    "  - . -- MATCHES any charachter\n",
    "  -{@} - matches special character"
   ]
  },
  {
   "cell_type": "code",
   "execution_count": null,
   "metadata": {},
   "outputs": [],
   "source": [
    "import re as r\n",
    "print(r.findall(\"p\",\"pradeep\"))\n",
    "print(r.search(\"e\",\"pradeep\"))\n"
   ]
  },
  {
   "cell_type": "markdown",
   "metadata": {},
   "source": [
    "# regular expressions\n",
    "## builtin package in python\n",
    "## used to match specific patterns\n",
    "## 3 functions\n",
    "### match\n",
    "####       * matches specific pattern\n",
    "### search \n",
    "####       * returns first occurence while searching a character or a substring\n",
    "### findall\n",
    "####       *returns all possible occurance"
   ]
  },
  {
   "cell_type": "code",
   "execution_count": null,
   "metadata": {},
   "outputs": [],
   "source": [
    "from packages.module import unique\n",
    "\n",
    "l=[1,2,3,1,2,3,5,7]\n",
    "unique(l)\n"
   ]
  },
  {
   "cell_type": "code",
   "execution_count": null,
   "metadata": {},
   "outputs": [],
   "source": [
    "from packages.module import sd\n",
    "\n",
    "l=[1,2,3,1,2,3,5,7]\n",
    "sd(l)"
   ]
  },
  {
   "cell_type": "code",
   "execution_count": null,
   "metadata": {},
   "outputs": [],
   "source": [
    "from packages.module import swap\n",
    "\n",
    "swap(3,5)"
   ]
  },
  {
   "cell_type": "code",
   "execution_count": null,
   "metadata": {},
   "outputs": [],
   "source": [
    "import calendar as c\n",
    "c.Calendar(2021)"
   ]
  },
  {
   "cell_type": "code",
   "execution_count": null,
   "metadata": {},
   "outputs": [],
   "source": [
    "import calendar as c\n",
    "g=c.leapdays(2000,2021)\n",
    "print(g)"
   ]
  },
  {
   "cell_type": "code",
   "execution_count": null,
   "metadata": {},
   "outputs": [],
   "source": [
    "import calendar as c\n",
    "print(c.isleap(2011))"
   ]
  },
  {
   "cell_type": "code",
   "execution_count": null,
   "metadata": {},
   "outputs": [],
   "source": [
    "import calendar as c\n",
    "print(dir(c),end=' ')"
   ]
  },
  {
   "cell_type": "code",
   "execution_count": null,
   "metadata": {},
   "outputs": [],
   "source": [
    "import random as r\n",
    "l=['fds','dsfds',1,2,3,4,5,6]\n",
    "r.shuffle(l)\n",
    "print(l)"
   ]
  },
  {
   "cell_type": "code",
   "execution_count": null,
   "metadata": {},
   "outputs": [],
   "source": [
    "import random as r\n",
    "s='pradeep'\n",
    "print(r.choice(s))"
   ]
  },
  {
   "cell_type": "code",
   "execution_count": null,
   "metadata": {},
   "outputs": [],
   "source": [
    "import random as r\n",
    "print(r.randrange(1,10))"
   ]
  },
  {
   "cell_type": "code",
   "execution_count": null,
   "metadata": {},
   "outputs": [],
   "source": [
    "import random as r\n",
    "print(r.randint(9,89789889))"
   ]
  },
  {
   "cell_type": "code",
   "execution_count": null,
   "metadata": {},
   "outputs": [],
   "source": [
    "import random as r\n",
    "print(dir(r),end=' ')"
   ]
  },
  {
   "cell_type": "code",
   "execution_count": null,
   "metadata": {},
   "outputs": [],
   "source": [
    "import math as m\n",
    "n=int(input(\"enter the base\"))\n",
    "p=int(input(\"enter the power\"))\n",
    "print(\"the value is\",m.pow(n,p))"
   ]
  },
  {
   "cell_type": "code",
   "execution_count": null,
   "metadata": {},
   "outputs": [],
   "source": [
    "import math as m\n",
    "n=int(input(\"enter the number u want to get factorial\"))\n",
    "print(\"the factorial is \",m.factorial(n))"
   ]
  },
  {
   "cell_type": "markdown",
   "metadata": {},
   "source": [
    "### packagesand modules\n",
    " # package\n",
    "   ## collection  of modules\n",
    "   ## modules\n",
    "   ### python files contains functions,objects and classes\n",
    "   #### access using import\n",
    "   ### packages\n",
    "   #### built in\n",
    "   ##### pandas numpy matplot lib regular expression\n",
    "   #### user defined \n",
    "   ##### defined for our purpose\n",
    "   \n",
    "   ### modules\n",
    "   #### built in\n",
    "   ##### math time calendar random\n",
    "   "
   ]
  },
  {
   "cell_type": "code",
   "execution_count": null,
   "metadata": {},
   "outputs": [],
   "source": [
    "import math\n",
    "print(dir(math), end='')"
   ]
  }
 ],
 "metadata": {
  "kernelspec": {
   "display_name": "Python 3",
   "language": "python",
   "name": "python3"
  },
  "language_info": {
   "codemirror_mode": {
    "name": "ipython",
    "version": 3
   },
   "file_extension": ".py",
   "mimetype": "text/x-python",
   "name": "python",
   "nbconvert_exporter": "python",
   "pygments_lexer": "ipython3",
   "version": "3.8.5"
  }
 },
 "nbformat": 4,
 "nbformat_minor": 4
}
